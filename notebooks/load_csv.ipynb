{
 "cells": [
  {
   "cell_type": "code",
   "execution_count": 5,
   "metadata": {},
   "outputs": [],
   "source": [
    "import pandas as pd\n",
    "import numpy as np\n",
    "import os"
   ]
  },
  {
   "cell_type": "code",
   "execution_count": 6,
   "metadata": {},
   "outputs": [
    {
     "name": "stdout",
     "output_type": "stream",
     "text": [
      "/Users/james/NS_model\n"
     ]
    }
   ],
   "source": [
    "cd /Users/james/NS_model"
   ]
  },
  {
   "cell_type": "code",
   "execution_count": 7,
   "metadata": {},
   "outputs": [],
   "source": []
  },
  {
   "cell_type": "code",
   "execution_count": 54,
   "metadata": {},
   "outputs": [],
   "source": [
    "file_list = os.listdir('data/')\n",
    "csv_table = {}\n",
    "for i in range(2010,2020):\n",
    "    csv_table[i] = {}\n",
    "    for j in range(1,13):\n",
    "        if np.isin(str(i)+'.'+str(j)+'.csv',file_list):\n",
    "            try:\n",
    "                csv_table[i,j] = pd.read_table('data/'+str(i)+'.'+str(j)+'.csv',index_col=0,sep=',').iloc[:-1]\n",
    "            except:\n",
    "                csv_table[i,j] = pd.read_table('data/'+str(i)+'.'+str(j)+'.csv',index_col=0,sep='\\t',encoding = \"gb2312\").iloc[:-1]\n",
    "            #print (str(i)+'.'+str(j)+'.csv')\n",
    "            #display(csv_table[i,j].head(2))\n",
    "            "
   ]
  },
  {
   "cell_type": "code",
   "execution_count": null,
   "metadata": {},
   "outputs": [],
   "source": []
  }
 ],
 "metadata": {
  "kernelspec": {
   "display_name": "Python 3",
   "language": "python",
   "name": "python3"
  },
  "language_info": {
   "codemirror_mode": {
    "name": "ipython",
    "version": 3
   },
   "file_extension": ".py",
   "mimetype": "text/x-python",
   "name": "python",
   "nbconvert_exporter": "python",
   "pygments_lexer": "ipython3",
   "version": "3.7.2"
  },
  "toc": {
   "base_numbering": 1,
   "nav_menu": {},
   "number_sections": true,
   "sideBar": true,
   "skip_h1_title": false,
   "title_cell": "Table of Contents",
   "title_sidebar": "Contents",
   "toc_cell": false,
   "toc_position": {},
   "toc_section_display": true,
   "toc_window_display": false
  }
 },
 "nbformat": 4,
 "nbformat_minor": 2
}
