{
 "cells": [
  {
   "cell_type": "markdown",
   "metadata": {},
   "source": [
    "# Modeling Fixed Rate Bonds Using QuantLib\n",
    "Let's consider a hypothetical bond with a par value of 100, that pays 6% coupon\n",
    "semi-annually issued on January 15th, 2015 and set to mature on January 15th, 2016.\n",
    "The bond will pay a coupon on July 15th, 2015 and January 15th, 2016. The par\n",
    "amount of 100 will also be paid on the January 15th, 2016.\n",
    "\n",
    "To make things simpler, lets assume that we know the spot rates of the treasury as\n",
    "of January 15th, 2015. The annualized spot rates are 0.5% for 6 months\n",
    "and 0.7% for 1 year point. Lets calculate the fair value of this bond.\n",
    "\n",
    "## refs\n",
    "- source materials of above codes\n",
    "    - http://gouthamanbalaraman.com/blog/quantlib-bond-modeling.html\n",
    "    - https://letyourmoneygrow.com/2018/04/14/quantlib-python-twisting-a-snake-to-fit-a-yieldcurve/\n",
    "\n",
    "\n",
    "- a improved machine learning method to estimate term structure \n",
    "    - https://arxiv.org/pdf/1703.01536.pdf\n",
    "    \n",
    "## quantlib installation\n",
    "```\n",
    "brew install boost\n",
    "brew install quantlib\n",
    "pip install QuantLib-Python\n",
    "```"
   ]
  },
  {
   "cell_type": "code",
   "execution_count": 1,
   "metadata": {},
   "outputs": [
    {
     "data": {
      "text/plain": [
       "105.27653992490681"
      ]
     },
     "execution_count": 1,
     "metadata": {},
     "output_type": "execute_result"
    }
   ],
   "source": [
    "3/pow(1+0.005, 0.5) + (100 + 3)/(1+0.007)"
   ]
  },
  {
   "cell_type": "markdown",
   "metadata": {},
   "source": [
    "Lets calculate the same using QuantLib"
   ]
  },
  {
   "cell_type": "code",
   "execution_count": 2,
   "metadata": {},
   "outputs": [],
   "source": [
    "import QuantLib as ql"
   ]
  },
  {
   "cell_type": "code",
   "execution_count": 3,
   "metadata": {},
   "outputs": [],
   "source": [
    "todaysDate = ql.Date(15, 1, 2015)\n",
    "ql.Settings.instance().evaluationDate = todaysDate\n",
    "spotDates = [ql.Date(15, 1, 2015), ql.Date(15, 7, 2015), ql.Date(15, 1, 2016)]\n",
    "spotRates = [0.0, 0.005, 0.007]\n",
    "dayCount = ql.Thirty360()\n",
    "calendar = ql.UnitedStates()\n",
    "interpolation = ql.Linear()\n",
    "compounding = ql.Compounded\n",
    "compoundingFrequency = ql.Annual\n",
    "spotCurve = ql.ZeroCurve(spotDates, spotRates, dayCount, calendar, interpolation,\n",
    "                             compounding, compoundingFrequency)\n",
    "spotCurveHandle = ql.YieldTermStructureHandle(spotCurve)"
   ]
  },
  {
   "cell_type": "code",
   "execution_count": 4,
   "metadata": {},
   "outputs": [
    {
     "data": {
      "text/plain": [
       "[Date(15,1,2015), Date(15,7,2015), Date(15,1,2016)]"
      ]
     },
     "execution_count": 4,
     "metadata": {},
     "output_type": "execute_result"
    }
   ],
   "source": [
    "issueDate = ql.Date(15, 1, 2015)\n",
    "maturityDate = ql.Date(15, 1, 2016)\n",
    "tenor = ql.Period(ql.Semiannual)\n",
    "calendar = ql.UnitedStates()\n",
    "bussinessConvention = ql.Unadjusted\n",
    "dateGeneration = ql.DateGeneration.Backward\n",
    "monthEnd = False\n",
    "schedule = ql.Schedule (issueDate, maturityDate, tenor, calendar, bussinessConvention,\n",
    "                            bussinessConvention , dateGeneration, monthEnd)\n",
    "list(schedule)"
   ]
  },
  {
   "cell_type": "code",
   "execution_count": 5,
   "metadata": {},
   "outputs": [
    {
     "data": {
      "text/plain": [
       "105.27653992490683"
      ]
     },
     "execution_count": 5,
     "metadata": {},
     "output_type": "execute_result"
    }
   ],
   "source": [
    "# Now lets build the coupon\n",
    "dayCount = ql.Thirty360()\n",
    "couponRate = .06\n",
    "coupons = [couponRate]\n",
    "\n",
    "# Now lets construct the FixedRateBond\n",
    "settlementDays = 0\n",
    "faceValue = 100\n",
    "fixedRateBond = ql.FixedRateBond(settlementDays, faceValue, schedule, coupons, dayCount)\n",
    "\n",
    "# create a bond engine with the term structure as input;\n",
    "# set the bond to use this bond engine\n",
    "bondEngine = ql.DiscountingBondEngine(spotCurveHandle)\n",
    "fixedRateBond.setPricingEngine(bondEngine)\n",
    "\n",
    "# Finally the price\n",
    "fixedRateBond.NPV()"
   ]
  },
  {
   "cell_type": "markdown",
   "metadata": {},
   "source": [
    "# NS/NSS fitting using clean price, face value, etc."
   ]
  },
  {
   "cell_type": "code",
   "execution_count": 27,
   "metadata": {},
   "outputs": [
    {
     "name": "stdout",
     "output_type": "stream",
     "text": [
      "0.013187208287715916\n",
      "0.006888236205577852\n",
      "0.0005233827483989923\n",
      "0.9999769684998407\n",
      "0.9998298241913117\n",
      "0.8217469489308218\n",
      "1.0089671485666836\n",
      "1.0122250811058053\n",
      "0.8178739222331985\n"
     ]
    }
   ],
   "source": [
    "import numpy as np\n",
    "import QuantLib as ql\n",
    " \n",
    "today = ql.Date(8, 2, 2018)\n",
    "ql.Settings.instance().evaluationDate = today\n",
    " \n",
    "terminationDates = [ql.Date(4, 7, 2044), ql.Date(15, 2, 2028), ql.Date(14, 4, 2023)]\n",
    "tenors = np.repeat(ql.Period(ql.Annual), 3) #allusion on R function rep()\n",
    "calenders = np.repeat(ql.Germany(), 3)\n",
    "termDateConvs = np.repeat(ql.Following, 3)\n",
    "genRules = np.repeat(ql.DateGeneration.Backward, 3)\n",
    "endOfMonths = np.repeat(False, 3)\n",
    "firstDates = [ql.Date(27, 4, 2012), ql.Date(10, 1, 2018), ql.Date(2, 2, 2018)]\n",
    " \n",
    "settlementDays = np.repeat(2, 3)\n",
    "coupons = [0.025, 0.005, 0.0]\n",
    "cleanPrices = [126.18, 98.18, 99.73]\n",
    "faceValues = np.repeat(100.0, 3)\n",
    "dayCounts = np.repeat(ql.ActualActual(), 3)\n",
    " \n",
    "schedules = []\n",
    "bonds = []\n",
    "bondHelpers = []\n",
    "for j in range(0, 3):\n",
    "    # without int() and bool() conversion it will not work due to int vs. int32_ and bool vs bool_\n",
    "    schedules.append(ql.Schedule(firstDates[j], terminationDates[j], tenors[j], calenders[j],\n",
    "                                 int(termDateConvs[j]), int(termDateConvs[j]), int(genRules[j]),\n",
    "                                 bool(endOfMonths[j])))\n",
    "    bonds.append(ql.FixedRateBond(int(settlementDays[j]), float(faceValues[j]), schedules[j],\n",
    "                                  [float(coupons[j])], dayCounts[j]))\n",
    "    bondHelpers.append(ql.BondHelper(ql.QuoteHandle(ql.SimpleQuote(float(cleanPrices[j]))), bonds[j]))\n",
    " \n",
    "list(schedules[0])\n",
    "list(schedules[1])\n",
    "list(schedules[2])\n",
    " \n",
    "print(bonds[0].bondYield(float(cleanPrices[0]), dayCounts[0], ql.Compounded, ql.Annual))\n",
    "print(bonds[1].bondYield(float(cleanPrices[1]), dayCounts[1], ql.Compounded, ql.Annual))\n",
    "print(bonds[2].bondYield(float(cleanPrices[2]), dayCounts[2], ql.Compounded, ql.Annual))\n",
    " \n",
    "curveSettlementDays = 2\n",
    "curveCalendar = ql.Germany()\n",
    "curveDaycounter = ql.ActualActual()\n",
    "\n",
    "#piecewise log cubic discount curve. Surprisingly there is no log-linear...\n",
    "yieldCurve = ql.PiecewiseLogCubicDiscount(today, bondHelpers, curveDaycounter)\n",
    "print(yieldCurve.discount(ql.Date(1, 3, 2019)))\n",
    "print(yieldCurve.discount(ql.Date(1, 3, 2020)))\n",
    "print(yieldCurve.discount(ql.Date(1, 3, 2035)))\n",
    " \n",
    "##and Nelson-Siegel\n",
    "#curveFittingMethod = ql.NelsonSiegelFitting()\n",
    "curveFittingMethod = ql.SvenssonFitting()\n",
    "tolerance = 1.0e-5\n",
    "iterations = 1000\n",
    "yieldCurveNS = ql.FittedBondDiscountCurve(curveSettlementDays, curveCalendar, bondHelpers,\n",
    "                                          curveDaycounter, curveFittingMethod, tolerance, iterations)\n",
    "res = yieldCurveNS.fitResults()\n",
    "print(yieldCurveNS.discount(ql.Date(1, 3, 2019)))\n",
    "print(yieldCurveNS.discount(ql.Date(1, 3, 2020)))\n",
    "print(yieldCurveNS.discount(ql.Date(1, 3, 2035)))"
   ]
  },
  {
   "cell_type": "code",
   "execution_count": 28,
   "metadata": {},
   "outputs": [
    {
     "data": {
      "text/plain": [
       "array([-0.0001615 , -0.01141152,  0.04413113,  0.03121141,  0.04677576,\n",
       "        0.11417798])"
      ]
     },
     "execution_count": 28,
     "metadata": {},
     "output_type": "execute_result"
    }
   ],
   "source": [
    "#paramters returned\n",
    "np.array(res.solution())"
   ]
  },
  {
   "cell_type": "code",
   "execution_count": 29,
   "metadata": {},
   "outputs": [
    {
     "data": {
      "text/plain": [
       "array([0.22253298, 0.45770962, 0.86080252])"
      ]
     },
     "execution_count": 29,
     "metadata": {},
     "output_type": "execute_result"
    }
   ],
   "source": [
    "np.array(res.weights())"
   ]
  },
  {
   "cell_type": "code",
   "execution_count": 26,
   "metadata": {},
   "outputs": [],
   "source": [
    "?yieldCurveNS.fitResults()"
   ]
  },
  {
   "cell_type": "code",
   "execution_count": null,
   "metadata": {},
   "outputs": [],
   "source": []
  },
  {
   "cell_type": "markdown",
   "metadata": {},
   "source": []
  },
  {
   "cell_type": "code",
   "execution_count": null,
   "metadata": {},
   "outputs": [],
   "source": []
  }
 ],
 "metadata": {
  "kernelspec": {
   "display_name": "Python 3",
   "language": "python",
   "name": "python3"
  },
  "language_info": {
   "codemirror_mode": {
    "name": "ipython",
    "version": 3
   },
   "file_extension": ".py",
   "mimetype": "text/x-python",
   "name": "python",
   "nbconvert_exporter": "python",
   "pygments_lexer": "ipython3",
   "version": "3.7.2"
  },
  "toc": {
   "base_numbering": 1,
   "nav_menu": {},
   "number_sections": true,
   "sideBar": true,
   "skip_h1_title": false,
   "title_cell": "Table of Contents",
   "title_sidebar": "Contents",
   "toc_cell": false,
   "toc_position": {},
   "toc_section_display": true,
   "toc_window_display": false
  }
 },
 "nbformat": 4,
 "nbformat_minor": 1
}
